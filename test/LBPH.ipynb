{
 "cells": [
  {
   "cell_type": "code",
   "execution_count": 1,
   "metadata": {
    "ExecuteTime": {
     "end_time": "2023-11-29T06:29:36.136752400Z",
     "start_time": "2023-11-29T06:29:36.004926800Z"
    }
   },
   "outputs": [],
   "source": [
    "import cv2\n",
    "import numpy as np\n",
    "import os"
   ]
  },
  {
   "cell_type": "code",
   "execution_count": 2,
   "metadata": {
    "ExecuteTime": {
     "end_time": "2023-11-29T06:29:40.195636300Z",
     "start_time": "2023-11-29T06:29:39.531659200Z"
    }
   },
   "outputs": [],
   "source": [
    "images = []\n",
    "names = [\"xcl\", \"dsh\", \"lty\", \"pxr\", \"lx\"]\n",
    "base_path = r\"D:\\Dataset\\redremote\"\n",
    "\n",
    "for name in names:\n",
    "    path = os.path.join(base_path, name)\n",
    "    for i in range(0, 50):\n",
    "        images.append(cv2.imread(os.path.join(path, f\"{i}.JPG\"), cv2.IMREAD_GRAYSCALE))"
   ]
  },
  {
   "cell_type": "code",
   "execution_count": 3,
   "metadata": {
    "ExecuteTime": {
     "end_time": "2023-11-29T06:29:42.117428200Z",
     "start_time": "2023-11-29T06:29:42.107427300Z"
    }
   },
   "outputs": [],
   "source": [
    "labels = np.array([[i] * 50 for i in range(5)]).reshape(-1)"
   ]
  },
  {
   "cell_type": "code",
   "execution_count": 4,
   "metadata": {
    "ExecuteTime": {
     "end_time": "2023-11-29T06:29:46.184454100Z",
     "start_time": "2023-11-29T06:29:43.962176400Z"
    }
   },
   "outputs": [],
   "source": [
    "recognizer = cv2.face.LBPHFaceRecognizer_create()\n",
    "recognizer.train(images, labels)"
   ]
  },
  {
   "cell_type": "code",
   "execution_count": 5,
   "metadata": {
    "ExecuteTime": {
     "end_time": "2023-11-29T06:29:49.066017900Z",
     "start_time": "2023-11-29T06:29:48.736999200Z"
    }
   },
   "outputs": [
    {
     "ename": "error",
     "evalue": "OpenCV(4.8.1) D:\\a\\opencv-python\\opencv-python\\opencv\\modules\\core\\src\\matrix.cpp:246: error: (-215:Assertion failed) s >= 0 in function 'cv::setSize'\n",
     "output_type": "error",
     "traceback": [
      "\u001B[1;31m---------------------------------------------------------------------------\u001B[0m",
      "\u001B[1;31merror\u001B[0m                                     Traceback (most recent call last)",
      "Cell \u001B[1;32mIn[5], line 4\u001B[0m\n\u001B[0;32m      2\u001B[0m \u001B[38;5;66;03m# predict_image = cv2.imread(os.path.join(base_path,'xcl',\"47.JPG\"), cv2.IMREAD_GRAYSCALE)\u001B[39;00m\n\u001B[0;32m      3\u001B[0m predict_image \u001B[38;5;241m=\u001B[39m cv2\u001B[38;5;241m.\u001B[39mimread(path, cv2\u001B[38;5;241m.\u001B[39mIMREAD_GRAYSCALE)\n\u001B[1;32m----> 4\u001B[0m label, confidence \u001B[38;5;241m=\u001B[39m \u001B[43mrecognizer\u001B[49m\u001B[38;5;241;43m.\u001B[39;49m\u001B[43mpredict\u001B[49m\u001B[43m(\u001B[49m\u001B[43mpredict_image\u001B[49m\u001B[43m)\u001B[49m\n",
      "\u001B[1;31merror\u001B[0m: OpenCV(4.8.1) D:\\a\\opencv-python\\opencv-python\\opencv\\modules\\core\\src\\matrix.cpp:246: error: (-215:Assertion failed) s >= 0 in function 'cv::setSize'\n"
     ]
    }
   ],
   "source": [
    "path = \"C:\\\\Users\\\\wxxcl\\\\Pictures\\\\AnalyzIR\\\\2023-11-01_134145.JPG\"\n",
    "# predict_image = cv2.imread(os.path.join(base_path,'xcl',\"47.JPG\"), cv2.IMREAD_GRAYSCALE)\n",
    "predict_image = cv2.imread(path, cv2.IMREAD_GRAYSCALE)\n",
    "label, confidence = recognizer.predict(predict_image)"
   ]
  },
  {
   "cell_type": "code",
   "execution_count": 12,
   "metadata": {},
   "outputs": [
    {
     "data": {
      "text/plain": [
       "('dsh', 46.69135959208369)"
      ]
     },
     "execution_count": 12,
     "metadata": {},
     "output_type": "execute_result"
    }
   ],
   "source": [
    "names[label], confidence"
   ]
  }
 ],
 "metadata": {
  "kernelspec": {
   "display_name": "AI",
   "language": "python",
   "name": "python3"
  },
  "language_info": {
   "codemirror_mode": {
    "name": "ipython",
    "version": 3
   },
   "file_extension": ".py",
   "mimetype": "text/x-python",
   "name": "python",
   "nbconvert_exporter": "python",
   "pygments_lexer": "ipython3",
   "version": "3.10.9"
  }
 },
 "nbformat": 4,
 "nbformat_minor": 2
}
